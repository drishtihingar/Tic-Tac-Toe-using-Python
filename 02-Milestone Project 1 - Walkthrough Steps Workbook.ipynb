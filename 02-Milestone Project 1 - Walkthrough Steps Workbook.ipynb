{
 "cells": [
  {
   "cell_type": "markdown",
   "metadata": {},
   "source": [
    "___\n",
    "\n",
    "<a href='https://www.udemy.com/user/joseportilla/'><img src='../Pierian_Data_Logo.png'/></a>\n",
    "___\n",
    "<center><em>Content Copyright by Pierian Data</em></center>"
   ]
  },
  {
   "cell_type": "markdown",
   "metadata": {},
   "source": [
    "# Milestone Project 1: Walkthrough Steps Workbook\n",
    "\n",
    "Below is a set of steps for you to follow to try to create the Tic Tac Toe Milestone Project game!"
   ]
  },
  {
   "cell_type": "markdown",
   "metadata": {},
   "source": [
    "#### Some suggested tools before you get started:\n",
    "To take input from a user:\n",
    "\n",
    "    player1 = input(\"Please pick a marker 'X' or 'O'\")\n",
    "    \n",
    "Note that input() takes in a string. If you need an integer value, use\n",
    "\n",
    "    position = int(input('Please enter a number'))\n",
    "    \n",
    "<br>To clear the screen between moves:\n",
    "\n",
    "    from IPython.display import clear_output\n",
    "    clear_output()\n",
    "    \n",
    "Note that clear_output() will only work in jupyter. To clear the screen in other IDEs, consider:\n",
    "\n",
    "    print('\\n'*100)\n",
    "    \n",
    "This scrolls the previous board up out of view. Now on to the program!"
   ]
  },
  {
   "cell_type": "markdown",
   "metadata": {},
   "source": [
    "**Step 1: Write a function that can print out a board. Set up your board as a list, where each index 1-9 corresponds with a number on a number pad, so you get a 3 by 3 board representation.**"
   ]
  },
  {
   "cell_type": "code",
   "execution_count": 1,
   "metadata": {},
   "outputs": [],
   "source": [
    "from IPython.display import clear_output\n",
    "\n",
    "def display_board(board):\n",
    "    \n",
    "    print(f'{board[7]} | {board[8]} | {board[9]}')\n",
    "    print(f'{board[4]} | {board[5]} | {board[6]}')\n",
    "    print(f'{board[1]} | {board[2]} | {board[3]}')"
   ]
  },
  {
   "cell_type": "markdown",
   "metadata": {},
   "source": [
    "**TEST Step 1:** run your function on a test version of the board list, and make adjustments as necessary"
   ]
  },
  {
   "cell_type": "code",
   "execution_count": 2,
   "metadata": {},
   "outputs": [
    {
     "name": "stdout",
     "output_type": "stream",
     "text": [
      "X | O | X\n",
      "O | X | O\n",
      "X | O | X\n"
     ]
    }
   ],
   "source": [
    "test_board = ['#','X','O','X','O','X','O','X','O','X']\n",
    "display_board(test_board)"
   ]
  },
  {
   "cell_type": "markdown",
   "metadata": {},
   "source": [
    "**Step 2: Write a function that can take in a player input and assign their marker as 'X' or 'O'. Think about using *while* loops to continually ask until you get a correct answer.**"
   ]
  },
  {
   "cell_type": "code",
   "execution_count": 3,
   "metadata": {},
   "outputs": [],
   "source": [
    "def player_input():\n",
    "    \n",
    "    check = False\n",
    "    while check == False:\n",
    "        m1 = input(\"Choose your sign: 'X' or 'O':\")\n",
    "        if m1 == 'X' or m1 == 'O':\n",
    "            check = True\n",
    "    if m1 == 'X':\n",
    "        m2 = 'O'\n",
    "    else:\n",
    "        m2 = 'X'\n",
    "    return (m1,m2)"
   ]
  },
  {
   "cell_type": "markdown",
   "metadata": {},
   "source": [
    "**TEST Step 2:** run the function to make sure it returns the desired output"
   ]
  },
  {
   "cell_type": "code",
   "execution_count": 4,
   "metadata": {},
   "outputs": [
    {
     "name": "stdout",
     "output_type": "stream",
     "text": [
      "Choose your sign: 'X' or 'O':X\n"
     ]
    },
    {
     "data": {
      "text/plain": [
       "('X', 'O')"
      ]
     },
     "execution_count": 4,
     "metadata": {},
     "output_type": "execute_result"
    }
   ],
   "source": [
    "player_input()"
   ]
  },
  {
   "cell_type": "markdown",
   "metadata": {},
   "source": [
    "**Step 3: Write a function that takes in the board list object, a marker ('X' or 'O'), and a desired position (number 1-9) and assigns it to the board.**"
   ]
  },
  {
   "cell_type": "code",
   "execution_count": 5,
   "metadata": {},
   "outputs": [],
   "source": [
    "def place_marker(board, marker, position):\n",
    "    board[position] = marker"
   ]
  },
  {
   "cell_type": "markdown",
   "metadata": {},
   "source": [
    "**TEST Step 3:** run the place marker function using test parameters and display the modified board"
   ]
  },
  {
   "cell_type": "code",
   "execution_count": 6,
   "metadata": {},
   "outputs": [
    {
     "name": "stdout",
     "output_type": "stream",
     "text": [
      "X | $ | X\n",
      "O | X | O\n",
      "X | O | X\n"
     ]
    }
   ],
   "source": [
    "place_marker(test_board,'$',8)\n",
    "display_board(test_board)"
   ]
  },
  {
   "cell_type": "markdown",
   "metadata": {},
   "source": [
    "**Step 4: Write a function that takes in a board and a mark (X or O) and then checks to see if that mark has won. **"
   ]
  },
  {
   "cell_type": "code",
   "execution_count": 35,
   "metadata": {},
   "outputs": [],
   "source": [
    "def win_check(board, mark):\n",
    "    \n",
    "    if board[7] == board[8] == board[9] == mark:\n",
    "        return True\n",
    "    elif board[4] == board[5] == board[6] == mark:\n",
    "        return True\n",
    "    elif board[1] == board[2] == board[3] == mark:\n",
    "        return True\n",
    "    elif board[1] == board[4] == board[7] == mark:\n",
    "        return True\n",
    "    elif board[2] == board[5] == board[8] == mark:\n",
    "        return True\n",
    "    elif board[3] == board[6] == board[9] == mark:\n",
    "        return True\n",
    "    elif board[7] == board[5] == board[3] == mark:\n",
    "        return True\n",
    "    elif board[9] == board[5] == board[1] == mark:\n",
    "        return True\n",
    "    \n",
    "    return False"
   ]
  },
  {
   "cell_type": "markdown",
   "metadata": {},
   "source": [
    "**TEST Step 4:** run the win_check function against our test_board - it should return True"
   ]
  },
  {
   "cell_type": "code",
   "execution_count": 8,
   "metadata": {},
   "outputs": [
    {
     "data": {
      "text/plain": [
       "True"
      ]
     },
     "execution_count": 8,
     "metadata": {},
     "output_type": "execute_result"
    }
   ],
   "source": [
    "win_check(test_board,'X')"
   ]
  },
  {
   "cell_type": "markdown",
   "metadata": {},
   "source": [
    "**Step 5: Write a function that uses the random module to randomly decide which player goes first. You may want to lookup random.randint() Return a string of which player went first.**"
   ]
  },
  {
   "cell_type": "code",
   "execution_count": 9,
   "metadata": {},
   "outputs": [],
   "source": [
    "import random\n",
    "\n",
    "def choose_first():\n",
    "    player = random.randint(1,2) \n",
    "    if player == 1:\n",
    "        return 'player1'\n",
    "    else:\n",
    "        return 'player2'"
   ]
  },
  {
   "cell_type": "markdown",
   "metadata": {},
   "source": [
    "**Step 6: Write a function that returns a boolean indicating whether a space on the board is freely available.**"
   ]
  },
  {
   "cell_type": "code",
   "execution_count": 10,
   "metadata": {},
   "outputs": [],
   "source": [
    "def space_check(board, position):\n",
    "    \n",
    "    if board[position] == ' ':\n",
    "        return True\n",
    "    else:\n",
    "        return False"
   ]
  },
  {
   "cell_type": "markdown",
   "metadata": {},
   "source": [
    "**Step 7: Write a function that checks if the board is full and returns a boolean value. True if full, False otherwise.**"
   ]
  },
  {
   "cell_type": "code",
   "execution_count": 11,
   "metadata": {},
   "outputs": [],
   "source": [
    "def full_board_check(board):\n",
    "    \n",
    "    for i in range(1,10):\n",
    "        if board[i] == ' ':\n",
    "            return False\n",
    "    return True"
   ]
  },
  {
   "cell_type": "markdown",
   "metadata": {},
   "source": [
    "**Step 8: Write a function that asks for a player's next position (as a number 1-9) and then uses the function from step 6 to check if it's a free position. If it is, then return the position for later use.**"
   ]
  },
  {
   "cell_type": "code",
   "execution_count": 24,
   "metadata": {},
   "outputs": [],
   "source": [
    "def player_choice(board):\n",
    "    pos = 0\n",
    "    while pos not in [1,2,3,4,5,6,7,8,9] or not space_check(board,pos):\n",
    "        pos = int(input('Choose your position from 1 to 9 only:'))\n",
    "    return pos"
   ]
  },
  {
   "cell_type": "markdown",
   "metadata": {},
   "source": [
    "**Step 9: Write a function that asks the player if they want to play again and returns a boolean True if they do want to play again.**"
   ]
  },
  {
   "cell_type": "code",
   "execution_count": 13,
   "metadata": {},
   "outputs": [],
   "source": [
    "def replay():\n",
    "    \n",
    "    check2 = False\n",
    "    while check2 == False:\n",
    "        will = input('Do you want to continue Y or N:')\n",
    "        if will == 'Y' or will == 'N':\n",
    "            check2 = True\n",
    "    if will == 'Y':\n",
    "        return True\n",
    "    else:\n",
    "        return False"
   ]
  },
  {
   "cell_type": "markdown",
   "metadata": {
    "collapsed": true
   },
   "source": [
    "**Step 10: Here comes the hard part! Use while loops and the functions you've made to run the game!**"
   ]
  },
  {
   "cell_type": "code",
   "execution_count": 38,
   "metadata": {},
   "outputs": [
    {
     "name": "stdout",
     "output_type": "stream",
     "text": [
      "Wlcome to Tic tac toe by Drishti\n",
      "ready to play? Yes or NoYes\n",
      "Choose your sign: 'X' or 'O':X\n",
      "  |   |  \n",
      "  |   |  \n",
      "  |   |  \n",
      "Choose your position from 1 to 9 only:2\n",
      "  |   |  \n",
      "  |   |  \n",
      "  | O |  \n",
      "Choose your position from 1 to 9 only:4\n",
      "  |   |  \n",
      "X |   |  \n",
      "  | O |  \n",
      "Choose your position from 1 to 9 only:6\n",
      "  |   |  \n",
      "X |   | O\n",
      "  | O |  \n",
      "Choose your position from 1 to 9 only:8\n",
      "  | X |  \n",
      "X |   | O\n",
      "  | O |  \n",
      "Choose your position from 1 to 9 only:4\n",
      "Choose your position from 1 to 9 only:6\n",
      "Choose your position from 1 to 9 only:9\n",
      "  | X | O\n",
      "X |   | O\n",
      "  | O |  \n",
      "Choose your position from 1 to 9 only:3\n",
      "  | X | O\n",
      "X |   | O\n",
      "  | O | X\n",
      "Choose your position from 1 to 9 only:2\n",
      "Choose your position from 1 to 9 only:3\n",
      "Choose your position from 1 to 9 only:1\n",
      "  | X | O\n",
      "X |   | O\n",
      "O | O | X\n",
      "Choose your position from 1 to 9 only:2\n",
      "Choose your position from 1 to 9 only:4\n",
      "Choose your position from 1 to 9 only:5\n",
      "  | X | O\n",
      "X | X | O\n",
      "O | O | X\n",
      "Choose your position from 1 to 9 only:6\n",
      "Choose your position from 1 to 9 only:7\n",
      "O | X | O\n",
      "X | X | O\n",
      "O | O | X\n",
      "There is a tie.\n",
      "Do you want to continue Y or N:N\n"
     ]
    }
   ],
   "source": [
    "print('Wlcome to Tic tac toe by Drishti')\n",
    "\n",
    "while True:\n",
    "    \n",
    "    board = [' ']*10\n",
    "    board[0] = '#'\n",
    "    \n",
    "    gameon = False\n",
    "    ready = input('ready to play? Yes or No')\n",
    "    if ready == 'Yes':\n",
    "        gameon = True\n",
    "    \n",
    "    player1,player2 = player_input()\n",
    "    turn = choose_first()\n",
    "    \n",
    "    while gameon:\n",
    "        \n",
    "        if turn == 'player1':\n",
    "            #display board\n",
    "            display_board(board)\n",
    "            \n",
    "            #ask for postion\n",
    "            posi = player_choice(board)\n",
    "            \n",
    "            #place that in board\n",
    "            place_marker(board,player1,posi)\n",
    "            \n",
    "            #check if win\n",
    "            if win_check(board,player1):\n",
    "                display_board(board)\n",
    "                print('Player 1 ' + player1 + ' won the match')\n",
    "                gameon = False\n",
    "            #check if full then it is a tie\n",
    "            \n",
    "            else:\n",
    "                if full_board_check(board):\n",
    "                    display_board(board)\n",
    "                    print('There is a tie.')\n",
    "                    gameon = False\n",
    "                else:\n",
    "                    turn = 'player2'\n",
    "            \n",
    "        elif turn =='player2':\n",
    "            #display board\n",
    "            display_board(board)\n",
    "            \n",
    "            #ask for postion\n",
    "            posi = player_choice(board)\n",
    "            \n",
    "            #place that in board\n",
    "            place_marker(board,player2,posi)\n",
    "            \n",
    "            #check if win\n",
    "            if win_check(board,player2):\n",
    "                display_board(board)\n",
    "                print('Player 2 ' + player2 + ' won the match')\n",
    "                gameon = False\n",
    "                \n",
    "            #check if full then it is a tie\n",
    "            else:\n",
    "                if full_board_check(board):\n",
    "                    display_board(board)\n",
    "                    print('There is a tie.')\n",
    "                    gameon = False\n",
    "                else:\n",
    "                    turn = 'player1'\n",
    "                \n",
    "    \n",
    "    if not replay():\n",
    "        break"
   ]
  },
  {
   "cell_type": "markdown",
   "metadata": {
    "collapsed": true
   },
   "source": [
    "## Good Job!"
   ]
  }
 ],
 "metadata": {
  "kernelspec": {
   "display_name": "Python 3 (ipykernel)",
   "language": "python",
   "name": "python3"
  },
  "language_info": {
   "codemirror_mode": {
    "name": "ipython",
    "version": 3
   },
   "file_extension": ".py",
   "mimetype": "text/x-python",
   "name": "python",
   "nbconvert_exporter": "python",
   "pygments_lexer": "ipython3",
   "version": "3.11.5"
  }
 },
 "nbformat": 4,
 "nbformat_minor": 1
}
